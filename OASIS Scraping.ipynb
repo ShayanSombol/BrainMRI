{
 "cells": [
  {
   "cell_type": "code",
   "execution_count": null,
   "metadata": {},
   "outputs": [],
   "source": [
    "#selenium version 3.9.0\n",
    "#Chromedriver version 91.0.4472.77\n",
    "#MACOS M1 Chip\n",
    "#https://www.edureka.co/community/52315/how-to-setup-chrome-driver-with-selenium-on-macos"
   ]
  },
  {
   "cell_type": "code",
   "execution_count": 25,
   "metadata": {},
   "outputs": [],
   "source": [
    "from selenium import webdriver\n",
    "import time\n",
    "import csv"
   ]
  },
  {
   "cell_type": "code",
   "execution_count": 101,
   "metadata": {},
   "outputs": [],
   "source": [
    "driver = webdriver.Chrome()\n",
    "driver.get(\"https://central.xnat.org/app/action/ProjectDownloadAction/project/OASIS3\")\n",
    "time.sleep(1)\n",
    "driver.find_element_by_xpath('//*[@id=\"user_info\"]/a[1]').click()\n",
    "time.sleep(1)\n",
    "driver.find_element_by_id(\"username\").send_keys(\"XXX\") #replace your username and password with XXX\n",
    "driver.find_element_by_id(\"password\").send_keys(\"XXX\") #replace your username and password with XXX\n",
    "driver.find_element_by_xpath('//*[@id=\"loginButton\"]').click()\n",
    "time.sleep(1)\n",
    "driver.find_element_by_xpath('//*[@id=\"min_projects_list\"]/div[1]/div[1]/h3/a').click()\n",
    "time.sleep(5)\n",
    "driver.find_element_by_xpath('//*[@id=\"yui-pg0-0-rpp\"]').send_keys(\"5000\")\n",
    "time.sleep(1)\n",
    "driver.find_element_by_xpath('//*[@id=\"yui-pg0-0-rpp\"]').send_keys(\"5000\")"
   ]
  },
  {
   "cell_type": "code",
   "execution_count": 57,
   "metadata": {},
   "outputs": [],
   "source": [
    "List=[[\"Subject\",\"Date\",\"Age at entry\",\"Age\",\"Handedness\",\"Gender\",\"CDR\",\"Diagnosis 1\",\"Diagnosis 2\",\"Diagnosis 3\",\"Diagnosis 4\",\"Diagnosis 5\"]]\n",
    "sublist=[]"
   ]
  },
  {
   "cell_type": "code",
   "execution_count": 98,
   "metadata": {},
   "outputs": [],
   "source": [
    "for i in range(1,1099):\n",
    "    time.sleep(3.5)\n",
    "    c=int(driver.find_element_by_xpath('//*[@id=\"dataRows\"]/tr['+str(i)+']/td[19]').text) #extract number of Clinical Data\n",
    "    c=int(driver.find_element_by_xpath('//*[@id=\"dataRows\"]/tr['+str(i)+']/td[19]').text) #extract number of Clinical Data\n",
    "    time.sleep(3.5)\n",
    "    driver.find_element_by_xpath('//*[@id=\"dataRows\"]/tr['+str(i)+']/td[1]/a').click()\n",
    "    #Adding an if statement to make sure the link is clicked (sometimes if the row is too down in the page the first click \n",
    "    #only scrolls down the page and the second click opens the link)\n",
    "    if i>22:\n",
    "        time.sleep(3)\n",
    "        driver.find_element_by_xpath('//*[@id=\"dataRows\"]/tr['+str(i)+']/td[1]/a').click()\n",
    "    time.sleep(2.5)\n",
    "    a=1 #counter for number of Clinical Data available for the subject\n",
    "    b=1 #counter for counting over objects in the webpage \n",
    "    while a<c+1:\n",
    "        if driver.find_element_by_xpath('//*[@id=\"all_expts\"]/table/tbody/tr['+str(b)+']/td[4]').text[9:21]=='ClinicalData':\n",
    "            date=driver.find_element_by_xpath('//*[@id=\"all_expts\"]/table/tbody/tr['+str(b)+']/td[4]').text[22:28]\n",
    "            subject=driver.find_element_by_xpath('//*[@id=\"all_expts\"]/table/tbody/tr['+str(b)+']/td[4]').text[0:8]\n",
    "            time.sleep(3.5)\n",
    "            driver.find_element_by_xpath('//*[@id=\"all_expts\"]/table/tbody/tr['+str(b)+']/td[2]/a').click()                           \n",
    "            age=driver.find_element_by_xpath('//*[@id=\"tab1\"]/table/tbody/tr/td[2]/table/tbody/tr[4]/td').text\n",
    "            hand=driver.find_element_by_xpath('//*[@id=\"tab1\"]/table/tbody/tr/td[2]/table/tbody/tr[3]/td').text\n",
    "            gender=driver.find_element_by_xpath('//*[@id=\"tab1\"]/table/tbody/tr/td[2]/table/tbody/tr[2]/td').text\n",
    "            ageorigin=driver.find_element_by_xpath('//*[@id=\"layout_content\"]/table[3]/tbody/tr/td[1]/table/tbody/tr[4]/td[2]').text\n",
    "            cdr=driver.find_element_by_xpath('//*[@id=\"layout_content\"]/table[3]/tbody/tr/td[1]/table/tbody/tr[11]').text\n",
    "            d1=driver.find_element_by_xpath('//*[@id=\"layout_content\"]/table[3]/tbody/tr/td[1]/table/tbody/tr[5]/td[2]').text\n",
    "            d2=driver.find_element_by_xpath('//*[@id=\"layout_content\"]/table[3]/tbody/tr/td[1]/table/tbody/tr[6]/td[2]').text\n",
    "            d3=driver.find_element_by_xpath('//*[@id=\"layout_content\"]/table[3]/tbody/tr/td[1]/table/tbody/tr[7]/td[2]').text\n",
    "            d4=driver.find_element_by_xpath('//*[@id=\"layout_content\"]/table[3]/tbody/tr/td[1]/table/tbody/tr[8]/td[2]').text\n",
    "            d5=driver.find_element_by_xpath('//*[@id=\"layout_content\"]/table[3]/tbody/tr/td[1]/table/tbody/tr[9]/td[2]').text\n",
    "            sublist=[subject,date,ageorigin,age,hand,gender,cdr,d1,d2,d3,d4,d5]\n",
    "            List.append(sublist)\n",
    "            a=a+1\n",
    "            b=b+1\n",
    "            driver.back()\n",
    "            time.sleep(2.5)\n",
    "        else:\n",
    "            b=b+1\n",
    "            \n",
    "    driver.back()\n",
    "    time.sleep(7)"
   ]
  },
  {
   "cell_type": "code",
   "execution_count": 100,
   "metadata": {},
   "outputs": [],
   "source": [
    "with open(\"List.csv\",'w') as resultFile:\n",
    "          wr = csv.writer(resultFile, dialect='excel')\n",
    "          wr.writerows(List)"
   ]
  },
  {
   "cell_type": "code",
   "execution_count": null,
   "metadata": {},
   "outputs": [],
   "source": []
  }
 ],
 "metadata": {
  "kernelspec": {
   "display_name": "Python 3",
   "language": "python",
   "name": "python3"
  },
  "language_info": {
   "codemirror_mode": {
    "name": "ipython",
    "version": 3
   },
   "file_extension": ".py",
   "mimetype": "text/x-python",
   "name": "python",
   "nbconvert_exporter": "python",
   "pygments_lexer": "ipython3",
   "version": "3.8.5"
  }
 },
 "nbformat": 4,
 "nbformat_minor": 4
}
